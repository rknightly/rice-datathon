{
 "cells": [
  {
   "cell_type": "code",
   "execution_count": 1,
   "metadata": {},
   "outputs": [],
   "source": [
    "import pandas as pd\n",
    "import matplotlib.pyplot as plt\n",
    "import numpy as np"
   ]
  },
  {
   "cell_type": "code",
   "execution_count": 2,
   "metadata": {},
   "outputs": [],
   "source": [
    "divorce = pd.read_csv(\"divorce.csv\")\n",
    "divorce_groupings = pd.read_csv(\"output.csv\")"
   ]
  },
  {
   "cell_type": "code",
   "execution_count": 21,
   "metadata": {},
   "outputs": [
    {
     "name": "stdout",
     "output_type": "stream",
     "text": [
      "Atr1 Divorce:  3.1904761904761907 Non-Divorce:  0.4 Difference:  2.7904761904761908\n",
      "Atr2 Divorce:  2.869047619047619 Non-Divorce:  0.47058823529411764 Difference:  2.3984593837535013\n",
      "Atr3 Divorce:  2.9166666666666665 Non-Divorce:  0.6470588235294118 Difference:  2.269607843137255\n",
      "Atr4 Divorce:  2.7261904761904763 Non-Divorce:  0.27058823529411763 Difference:  2.4556022408963587\n",
      "Atr5 Divorce:  3.011904761904762 Non-Divorce:  0.10588235294117647 Difference:  2.9060224089635853\n",
      "Atr6 Divorce:  1.130952380952381 Non-Divorce:  0.3764705882352941 Difference:  0.7544817927170868\n",
      "Atr7 Divorce:  0.9880952380952381 Non-Divorce:  0.011764705882352941 Difference:  0.9763305322128852\n",
      "Atr8 Divorce:  2.8095238095238093 Non-Divorce:  0.12941176470588237 Difference:  2.680112044817927\n",
      "Atr9 Divorce:  2.892857142857143 Non-Divorce:  0.058823529411764705 Difference:  2.8340336134453783\n",
      "Atr10 Divorce:  2.7738095238095237 Non-Divorce:  0.4117647058823529 Difference:  2.362044817927171\n",
      "Atr11 Divorce:  3.2142857142857144 Non-Divorce:  0.2 Difference:  3.0142857142857142\n",
      "Atr12 Divorce:  2.9404761904761907 Non-Divorce:  0.38823529411764707 Difference:  2.5522408963585437\n",
      "Atr13 Divorce:  3.0952380952380953 Non-Divorce:  0.611764705882353 Difference:  2.4834733893557424\n",
      "Atr14 Divorce:  2.880952380952381 Non-Divorce:  0.29411764705882354 Difference:  2.5868347338935576\n",
      "Atr15 Divorce:  2.9404761904761907 Non-Divorce:  0.23529411764705882 Difference:  2.705182072829132\n",
      "Atr16 Divorce:  2.8214285714285716 Non-Divorce:  0.16470588235294117 Difference:  2.6567226890756306\n",
      "Atr17 Divorce:  3.1666666666666665 Non-Divorce:  0.16470588235294117 Difference:  3.0019607843137255\n",
      "Atr18 Divorce:  2.9761904761904763 Non-Divorce:  0.09411764705882353 Difference:  2.8820728291316526\n",
      "Atr19 Divorce:  3.1785714285714284 Non-Divorce:  0.1411764705882353 Difference:  3.037394957983193\n",
      "Atr20 Divorce:  2.880952380952381 Non-Divorce:  0.07058823529411765 Difference:  2.810364145658263\n",
      "Atr21 Divorce:  2.6547619047619047 Non-Divorce:  0.1411764705882353 Difference:  2.5135854341736694\n",
      "Atr22 Divorce:  2.4523809523809526 Non-Divorce:  0.07058823529411765 Difference:  2.3817927170868347\n",
      "Atr23 Divorce:  2.7738095238095237 Non-Divorce:  0.08235294117647059 Difference:  2.691456582633053\n",
      "Atr24 Divorce:  2.7857142857142856 Non-Divorce:  0.27058823529411763 Difference:  2.515126050420168\n",
      "Atr25 Divorce:  2.9523809523809526 Non-Divorce:  0.3411764705882353 Difference:  2.611204481792717\n",
      "Atr26 Divorce:  2.8095238095238093 Non-Divorce:  0.2 Difference:  2.609523809523809\n",
      "Atr27 Divorce:  2.6785714285714284 Non-Divorce:  0.15294117647058825 Difference:  2.5256302521008402\n",
      "Atr28 Divorce:  2.5595238095238093 Non-Divorce:  0.08235294117647059 Difference:  2.4771708683473386\n",
      "Atr29 Divorce:  2.9285714285714284 Non-Divorce:  0.09411764705882353 Difference:  2.8344537815126047\n",
      "Atr30 Divorce:  2.8214285714285716 Non-Divorce:  0.2 Difference:  2.6214285714285714\n",
      "Atr31 Divorce:  3.4404761904761907 Non-Divorce:  0.8470588235294118 Difference:  2.593417366946779\n",
      "Atr32 Divorce:  3.4166666666666665 Non-Divorce:  0.7411764705882353 Difference:  2.675490196078431\n",
      "Atr33 Divorce:  3.357142857142857 Non-Divorce:  0.29411764705882354 Difference:  3.063025210084034\n",
      "Atr34 Divorce:  3.2738095238095237 Non-Divorce:  0.5647058823529412 Difference:  2.709103641456583\n",
      "Atr35 Divorce:  3.2738095238095237 Non-Divorce:  0.10588235294117647 Difference:  3.167927170868347\n",
      "Atr36 Divorce:  3.2142857142857144 Non-Divorce:  0.03529411764705882 Difference:  3.1789915966386557\n",
      "Atr37 Divorce:  3.5833333333333335 Non-Divorce:  0.6352941176470588 Difference:  2.9480392156862747\n",
      "Atr38 Divorce:  3.4047619047619047 Non-Divorce:  0.35294117647058826 Difference:  3.0518207282913163\n",
      "Atr39 Divorce:  3.642857142857143 Non-Divorce:  0.5764705882352941 Difference:  3.0663865546218485\n",
      "Atr40 Divorce:  3.5714285714285716 Non-Divorce:  0.21176470588235294 Difference:  3.3596638655462185\n",
      "Atr41 Divorce:  3.5476190476190474 Non-Divorce:  0.47058823529411764 Difference:  3.0770308123249297\n",
      "Atr42 Divorce:  3.3333333333333335 Non-Divorce:  1.0235294117647058 Difference:  2.3098039215686277\n",
      "Atr43 Divorce:  3.4761904761904763 Non-Divorce:  1.964705882352941 Difference:  1.5114845938375352\n",
      "Atr44 Divorce:  3.380952380952381 Non-Divorce:  0.5411764705882353 Difference:  2.839775910364146\n",
      "Atr45 Divorce:  3.2857142857142856 Non-Divorce:  1.6705882352941177 Difference:  1.6151260504201679\n",
      "Atr46 Divorce:  3.1666666666666665 Non-Divorce:  1.9764705882352942 Difference:  1.1901960784313723\n",
      "Atr47 Divorce:  3.3214285714285716 Non-Divorce:  1.2470588235294118 Difference:  2.07436974789916\n",
      "Atr48 Divorce:  3.4523809523809526 Non-Divorce:  2.070588235294118 Difference:  1.3817927170868347\n",
      "Atr49 Divorce:  3.511904761904762 Non-Divorce:  1.2941176470588236 Difference:  2.2177871148459385\n",
      "Atr50 Divorce:  3.5 Non-Divorce:  1.4 Difference:  2.1\n",
      "Atr51 Divorce:  3.357142857142857 Non-Divorce:  1.6235294117647059 Difference:  1.7336134453781513\n",
      "Atr52 Divorce:  3.488095238095238 Non-Divorce:  1.588235294117647 Difference:  1.8998599439775912\n",
      "Atr53 Divorce:  3.3214285714285716 Non-Divorce:  1.2 Difference:  2.121428571428572\n",
      "Atr54 Divorce:  3.369047619047619 Non-Divorce:  0.6823529411764706 Difference:  2.6866946778711487\n",
      "Class Divorce:  1.0 Non-Divorce:  0.0 Difference:  1.0\n"
     ]
    }
   ],
   "source": [
    "#For each question, find the difference in the means between married and divorced participants\n",
    "columns = list(divorce)\n",
    "for i in columns: \n",
    "    divorce_mean = divorce[i][0:84].mean()\n",
    "    non_divorce_mean = divorce[i][85:171].mean()\n",
    "    print(i, \"Divorce: \", divorce_mean, \"Non-Divorce: \", non_divorce_mean, \"Difference: \", divorce_mean - non_divorce_mean)"
   ]
  },
  {
   "cell_type": "code",
   "execution_count": 7,
   "metadata": {},
   "outputs": [
    {
     "name": "stdout",
     "output_type": "stream",
     "text": [
      "Atr1 Divorce:  0.7521245487122952 Non-Divorce:  0.9023778112773573 Total:  1.6272565258449516\n",
      "Atr2 Divorce:  0.9154597489360056 Non-Divorce:  0.7651367026025273 Total:  1.468653792088646\n",
      "Atr3 Divorce:  0.7478214678592504 Non-Divorce:  0.9220303986433471 Total:  1.4154436344177437\n",
      "Atr4 Divorce:  0.922949573426916 Non-Divorce:  0.8075276096432463 Total:  1.5043272077803516\n",
      "Atr5 Divorce:  0.9755325714958675 Non-Divorce:  0.37870485466492065 Total:  1.6321687838848258\n",
      "Atr6 Divorce:  0.9022029518793463 Non-Divorce:  0.7396342498352889 Total:  0.9040459007164161\n",
      "Atr7 Divorce:  1.0697826332422344 Non-Divorce:  0.10846522890932819 Total:  0.8986976693361162\n",
      "Atr8 Divorce:  1.0116929682847844 Non-Divorce:  0.40202568308497905 Total:  1.546371070488445\n",
      "Atr9 Divorce:  0.8783590552549472 Non-Divorce:  0.23669053416557537 Total:  1.557975785612705\n",
      "Atr10 Divorce:  0.8829194518541436 Non-Divorce:  0.6777785431108015 Total:  1.4215290591450227\n",
      "Atr11 Divorce:  0.8369685484644925 Non-Divorce:  0.40237390808147827 Total:  1.6470818207334847\n",
      "Atr12 Divorce:  0.8551923686388244 Non-Divorce:  0.5792876916454182 Total:  1.4686537920886458\n",
      "Atr13 Divorce:  0.8589577267610972 Non-Divorce:  0.7252933338781401 Total:  1.4784211859019656\n",
      "Atr14 Divorce:  0.9493785145926599 Non-Divorce:  0.5076446407010448 Total:  1.5027645946986197\n",
      "Atr15 Divorce:  0.7968490730429499 Non-Divorce:  0.47926180397638657 Total:  1.5066969657520168\n",
      "Atr16 Divorce:  0.9072760009084563 Non-Divorce:  0.4037638048216229 Total:  1.5042462233003135\n",
      "Atr17 Divorce:  0.7417552178534719 Non-Divorce:  0.4037638048216229 Total:  1.6145117227905763\n",
      "Atr18 Divorce:  0.8062435650430119 Non-Divorce:  0.29372522840900395 Total:  1.56599791203381\n",
      "Atr19 Divorce:  0.7786412986381618 Non-Divorce:  0.38275135458908033 Total:  1.6410268193811774\n",
      "Atr20 Divorce:  0.8971811532803675 Non-Divorce:  0.2576558841203685 Total:  1.5541731657151008\n",
      "Atr21 Divorce:  0.9755325714958684 Non-Divorce:  0.3502700038973536 Total:  1.4521489291241543\n",
      "Atr22 Divorce:  1.1343992827240617 Non-Divorce:  0.25765588412036855 Total:  1.4465292667610419\n",
      "Atr23 Divorce:  1.2059210395557187 Non-Divorce:  0.3522635886014077 Total:  1.6120413582655981\n",
      "Atr24 Divorce:  1.018756962532832 Non-Divorce:  0.5645949937812069 Total:  1.5043850511683845\n",
      "Atr25 Divorce:  1.0048648162364553 Non-Divorce:  0.5012589193238167 Total:  1.5300789730488078\n",
      "Atr26 Divorce:  0.9628795978252958 Non-Divorce:  0.4023739080814781 Total:  1.5004466210606358\n",
      "Atr27 Divorce:  0.9589240240984238 Non-Divorce:  0.3620668957178906 Total:  1.457078214467885\n",
      "Atr28 Divorce:  1.0793928511608362 Non-Divorce:  0.27653315937748635 Total:  1.4677884939596535\n",
      "Atr29 Divorce:  0.9791281379365723 Non-Divorce:  0.2937252284090038 Total:  1.5923153430642232\n",
      "Atr30 Divorce:  0.9462763330290719 Non-Divorce:  0.430945803685667 Total:  1.5044197561336776\n",
      "Atr31 Divorce:  1.0102032537485255 Non-Divorce:  1.0060043826580334 Total:  1.6469550213424438\n",
      "Atr32 Divorce:  0.8244506507378168 Non-Divorce:  0.9898646032529447 Total:  1.623444662507521\n",
      "Atr33 Divorce:  1.0937154223695895 Non-Divorce:  0.687014407067426 Total:  1.785202353151759\n",
      "Atr34 Divorce:  1.0220601740730708 Non-Divorce:  0.762936975858198 Total:  1.6305152196949309\n",
      "Atr35 Divorce:  1.2644460711695662 Non-Divorce:  0.40893384643032704 Total:  1.8422281035907524\n",
      "Atr36 Divorce:  1.172695675057892 Non-Divorce:  0.1856172985273869 Total:  1.798411721437859\n",
      "Atr37 Divorce:  0.8244506507378173 Non-Divorce:  0.9108742376149959 Total:  1.7160510443785302\n",
      "Atr38 Divorce:  0.9832212563879986 Non-Divorce:  0.6115141697719955 Total:  1.7348017377399576\n",
      "Atr39 Divorce:  0.7547896402526346 Non-Divorce:  0.7773041108036604 Total:  1.7194957128295703\n",
      "Atr40 Divorce:  0.7328063615384273 Non-Divorce:  0.490240894309911 Total:  1.7960392669375271\n",
      "Atr41 Divorce:  0.8417532177739623 Non-Divorce:  0.700140042014005 Total:  1.7217613756261287\n",
      "Atr42 Divorce:  0.8962214298964416 Non-Divorce:  1.2049152369736698 Total:  1.574034436263604\n",
      "Atr43 Divorce:  0.9245798847485811 Non-Divorce:  1.2765938573997215 Total:  1.348446657619104\n",
      "Atr44 Divorce:  0.8904413675421912 Non-Divorce:  0.9070220921401263 Total:  1.684267200944323\n",
      "Atr45 Divorce:  1.0479058700878354 Non-Divorce:  1.4341766784807377 Total:  1.4999245833228116\n",
      "Atr46 Divorce:  1.0958116685139856 Non-Divorce:  1.3449771691126107 Total:  1.37178570922075\n",
      "Atr47 Divorce:  1.1211086841084934 Non-Divorce:  1.2808654287233296 Total:  1.586841120178442\n",
      "Atr48 Divorce:  0.7181764374410152 Non-Divorce:  1.021066614287396 Total:  1.1373481164114316\n",
      "Atr49 Divorce:  0.7837821128725626 Non-Divorce:  1.2034032041293072 Total:  1.511586530501142\n",
      "Atr50 Divorce:  0.8140335388727166 Non-Divorce:  1.0141851056742193 Total:  1.4050899467438571\n",
      "Atr51 Divorce:  0.845154254728516 Non-Divorce:  0.9756130012926824 Total:  1.2602382660812637\n",
      "Atr52 Divorce:  0.8711444849805284 Non-Divorce:  1.321021589231488 Total:  1.4765365255833773\n",
      "Atr53 Divorce:  0.920459736961161 Non-Divorce:  1.1832159566199232 Total:  1.5056339259493718\n",
      "Atr54 Divorce:  1.095222504815575 Non-Divorce:  0.875754976412629 Total:  1.6676108243438732\n",
      "Class Divorce:  0.0 Non-Divorce:  0.0 Total:  0.5014424025934502\n"
     ]
    }
   ],
   "source": [
    "#For each question, find the standard deviation of answers separately for married participants and divorced participants\n",
    "columns = list(divorce)\n",
    "for i in columns: \n",
    "    divorce_std = divorce[i][0:84].std()\n",
    "    non_divorce_std = divorce[i][85:171].std()\n",
    "    total_std = divorce[i][0:171].std()\n",
    "    print(i, \"Divorce: \", divorce_std, \"Non-Divorce: \", non_divorce_std, \"Total: \", total_std)"
   ]
  },
  {
   "cell_type": "code",
   "execution_count": 19,
   "metadata": {
    "scrolled": true
   },
   "outputs": [
    {
     "name": "stdout",
     "output_type": "stream",
     "text": [
      "Column:  Atr1 Divorce:  3.0 Non-Divorce:  0.0 Difference:  3.0\n",
      "Column:  Atr2 Divorce:  3.0 Non-Divorce:  0.0 Difference:  3.0\n",
      "Column:  Atr3 Divorce:  3.0 Non-Divorce:  0.0 Difference:  3.0\n",
      "Column:  Atr4 Divorce:  3.0 Non-Divorce:  0.0 Difference:  3.0\n",
      "Column:  Atr5 Divorce:  3.0 Non-Divorce:  0.0 Difference:  3.0\n",
      "Column:  Atr6 Divorce:  1.0 Non-Divorce:  0.0 Difference:  1.0\n",
      "Column:  Atr7 Divorce:  1.0 Non-Divorce:  0.0 Difference:  1.0\n",
      "Column:  Atr8 Divorce:  3.0 Non-Divorce:  0.0 Difference:  3.0\n",
      "Column:  Atr9 Divorce:  3.0 Non-Divorce:  0.0 Difference:  3.0\n",
      "Column:  Atr10 Divorce:  3.0 Non-Divorce:  0.0 Difference:  3.0\n",
      "Column:  Atr11 Divorce:  3.0 Non-Divorce:  0.0 Difference:  3.0\n",
      "Column:  Atr12 Divorce:  3.0 Non-Divorce:  0.0 Difference:  3.0\n",
      "Column:  Atr13 Divorce:  3.0 Non-Divorce:  0.0 Difference:  3.0\n",
      "Column:  Atr14 Divorce:  3.0 Non-Divorce:  0.0 Difference:  3.0\n",
      "Column:  Atr15 Divorce:  3.0 Non-Divorce:  0.0 Difference:  3.0\n",
      "Column:  Atr16 Divorce:  3.0 Non-Divorce:  0.0 Difference:  3.0\n",
      "Column:  Atr17 Divorce:  3.0 Non-Divorce:  0.0 Difference:  3.0\n",
      "Column:  Atr18 Divorce:  3.0 Non-Divorce:  0.0 Difference:  3.0\n",
      "Column:  Atr19 Divorce:  3.0 Non-Divorce:  0.0 Difference:  3.0\n",
      "Column:  Atr20 Divorce:  3.0 Non-Divorce:  0.0 Difference:  3.0\n",
      "Column:  Atr21 Divorce:  3.0 Non-Divorce:  0.0 Difference:  3.0\n",
      "Column:  Atr22 Divorce:  3.0 Non-Divorce:  0.0 Difference:  3.0\n",
      "Column:  Atr23 Divorce:  3.0 Non-Divorce:  0.0 Difference:  3.0\n",
      "Column:  Atr24 Divorce:  3.0 Non-Divorce:  0.0 Difference:  3.0\n",
      "Column:  Atr25 Divorce:  3.0 Non-Divorce:  0.0 Difference:  3.0\n",
      "Column:  Atr26 Divorce:  3.0 Non-Divorce:  0.0 Difference:  3.0\n",
      "Column:  Atr27 Divorce:  3.0 Non-Divorce:  0.0 Difference:  3.0\n",
      "Column:  Atr28 Divorce:  3.0 Non-Divorce:  0.0 Difference:  3.0\n",
      "Column:  Atr29 Divorce:  3.0 Non-Divorce:  0.0 Difference:  3.0\n",
      "Column:  Atr30 Divorce:  3.0 Non-Divorce:  0.0 Difference:  3.0\n",
      "Column:  Atr31 Divorce:  4.0 Non-Divorce:  1.0 Difference:  3.0\n",
      "Column:  Atr32 Divorce:  4.0 Non-Divorce:  0.0 Difference:  4.0\n",
      "Column:  Atr33 Divorce:  4.0 Non-Divorce:  0.0 Difference:  4.0\n",
      "Column:  Atr34 Divorce:  4.0 Non-Divorce:  0.0 Difference:  4.0\n",
      "Column:  Atr35 Divorce:  4.0 Non-Divorce:  0.0 Difference:  4.0\n",
      "Column:  Atr36 Divorce:  4.0 Non-Divorce:  0.0 Difference:  4.0\n",
      "Column:  Atr37 Divorce:  4.0 Non-Divorce:  0.0 Difference:  4.0\n",
      "Column:  Atr38 Divorce:  4.0 Non-Divorce:  0.0 Difference:  4.0\n",
      "Column:  Atr39 Divorce:  4.0 Non-Divorce:  0.0 Difference:  4.0\n",
      "Column:  Atr40 Divorce:  4.0 Non-Divorce:  0.0 Difference:  4.0\n",
      "Column:  Atr41 Divorce:  4.0 Non-Divorce:  0.0 Difference:  4.0\n",
      "Column:  Atr42 Divorce:  4.0 Non-Divorce:  1.0 Difference:  3.0\n",
      "Column:  Atr43 Divorce:  4.0 Non-Divorce:  2.0 Difference:  2.0\n",
      "Column:  Atr44 Divorce:  4.0 Non-Divorce:  0.0 Difference:  4.0\n",
      "Column:  Atr45 Divorce:  4.0 Non-Divorce:  1.0 Difference:  3.0\n",
      "Column:  Atr46 Divorce:  4.0 Non-Divorce:  2.0 Difference:  2.0\n",
      "Column:  Atr47 Divorce:  4.0 Non-Divorce:  1.0 Difference:  3.0\n",
      "Column:  Atr48 Divorce:  4.0 Non-Divorce:  2.0 Difference:  2.0\n",
      "Column:  Atr49 Divorce:  4.0 Non-Divorce:  1.0 Difference:  3.0\n",
      "Column:  Atr50 Divorce:  4.0 Non-Divorce:  1.0 Difference:  3.0\n",
      "Column:  Atr51 Divorce:  4.0 Non-Divorce:  2.0 Difference:  2.0\n",
      "Column:  Atr52 Divorce:  4.0 Non-Divorce:  1.0 Difference:  3.0\n",
      "Column:  Atr53 Divorce:  4.0 Non-Divorce:  1.0 Difference:  3.0\n",
      "Column:  Atr54 Divorce:  4.0 Non-Divorce:  0.0 Difference:  4.0\n",
      "Column:  Class Divorce:  1.0 Non-Divorce:  0.0 Difference:  1.0\n"
     ]
    }
   ],
   "source": [
    "columns = list(divorce)\n",
    "#divorced = divorce[\"Class\"]\n",
    "for i in columns: \n",
    "    divorce_mean = divorce[i][0:84].median()\n",
    "    non_divorce_mean = divorce[i][85:170].median()\n",
    "    print(\"Column: \", i, \"Divorce: \", divorce_mean, \"Non-Divorce: \", non_divorce_mean, \"Difference: \", divorce_mean - non_divorce_mean)"
   ]
  },
  {
   "cell_type": "code",
   "execution_count": 7,
   "metadata": {},
   "outputs": [
    {
     "name": "stdout",
     "output_type": "stream",
     "text": [
      "Communications Divorce:  0.42299107142857145 Non-Divorce:  0.5055147058823529 Difference Magnitude:  0.08252363445378147\n",
      "Experiences Divorce:  0.7410714285714285 Non-Divorce:  0.3033613445378152 Difference Magnitude:  0.4377100840336133\n",
      "Values Divorce:  0.7342261904761906 Non-Divorce:  0.05823529411764705 Difference Magnitude:  0.6759908963585436\n",
      "Empathy Divorce:  0.6878306878306878 Non-Divorce:  0.0415032679738562 Difference Magnitude:  0.6463274198568316\n",
      "Respect Divorce:  0.15654761904761902 Non-Divorce:  0.8326470588235293 Difference Magnitude:  0.6760994397759102\n",
      "Acquiesce Divorce:  0.16815476190476195 Non-Divorce:  0.6490196078431376 Difference Magnitude:  0.48086484593837564\n",
      "Self-righteous Divorce:  0.13616071428571427 Non-Divorce:  0.600735294117647 Difference Magnitude:  0.46457457983193273\n",
      "Divorce Status Divorce:  1.0 Non-Divorce:  0.0 Difference Magnitude:  1.0\n"
     ]
    }
   ],
   "source": [
    "#For each personality trait, find the difference in the means between married and divorced participants\n",
    "#Empathy = Familiarity, Acquiesce = Reticence, Values = Similar Values/Priorities, Experiences = Quality Time w/Partner\n",
    "columns = list(divorce_groupings)\n",
    "for i in columns: \n",
    "    divorce_mean = divorce_groupings[i][0:84].mean()\n",
    "    non_divorce_mean = divorce_groupings[i][85:171].mean()\n",
    "    print(i, \"Divorce: \", divorce_mean, \"Non-Divorce: \", non_divorce_mean, \"Difference Magnitude: \", abs(divorce_mean - non_divorce_mean))"
   ]
  }
 ],
 "metadata": {
  "kernelspec": {
   "display_name": "Python 3",
   "language": "python",
   "name": "python3"
  },
  "language_info": {
   "codemirror_mode": {
    "name": "ipython",
    "version": 3
   },
   "file_extension": ".py",
   "mimetype": "text/x-python",
   "name": "python",
   "nbconvert_exporter": "python",
   "pygments_lexer": "ipython3",
   "version": "3.7.3"
  }
 },
 "nbformat": 4,
 "nbformat_minor": 2
}
