{
 "cells": [
  {
   "cell_type": "code",
   "execution_count": 2,
   "metadata": {},
   "outputs": [],
   "source": [
    "import pandas as pd\n",
    "import matplotlib.pyplot as plt\n",
    "import numpy as np"
   ]
  },
  {
   "cell_type": "code",
   "execution_count": 3,
   "metadata": {},
   "outputs": [],
   "source": [
    "divorce = pd.read_csv(\"divorce.csv\")\n",
    "divorce_groupings = pd.read_csv(\"output.csv\")"
   ]
  },
  {
   "cell_type": "code",
   "execution_count": 21,
   "metadata": {},
   "outputs": [
    {
     "name": "stdout",
     "output_type": "stream",
     "text": [
      "Atr1 Divorce:  3.1904761904761907 Non-Divorce:  0.4 Difference:  2.7904761904761908\n",
      "Atr2 Divorce:  2.869047619047619 Non-Divorce:  0.47058823529411764 Difference:  2.3984593837535013\n",
      "Atr3 Divorce:  2.9166666666666665 Non-Divorce:  0.6470588235294118 Difference:  2.269607843137255\n",
      "Atr4 Divorce:  2.7261904761904763 Non-Divorce:  0.27058823529411763 Difference:  2.4556022408963587\n",
      "Atr5 Divorce:  3.011904761904762 Non-Divorce:  0.10588235294117647 Difference:  2.9060224089635853\n",
      "Atr6 Divorce:  1.130952380952381 Non-Divorce:  0.3764705882352941 Difference:  0.7544817927170868\n",
      "Atr7 Divorce:  0.9880952380952381 Non-Divorce:  0.011764705882352941 Difference:  0.9763305322128852\n",
      "Atr8 Divorce:  2.8095238095238093 Non-Divorce:  0.12941176470588237 Difference:  2.680112044817927\n",
      "Atr9 Divorce:  2.892857142857143 Non-Divorce:  0.058823529411764705 Difference:  2.8340336134453783\n",
      "Atr10 Divorce:  2.7738095238095237 Non-Divorce:  0.4117647058823529 Difference:  2.362044817927171\n",
      "Atr11 Divorce:  3.2142857142857144 Non-Divorce:  0.2 Difference:  3.0142857142857142\n",
      "Atr12 Divorce:  2.9404761904761907 Non-Divorce:  0.38823529411764707 Difference:  2.5522408963585437\n",
      "Atr13 Divorce:  3.0952380952380953 Non-Divorce:  0.611764705882353 Difference:  2.4834733893557424\n",
      "Atr14 Divorce:  2.880952380952381 Non-Divorce:  0.29411764705882354 Difference:  2.5868347338935576\n",
      "Atr15 Divorce:  2.9404761904761907 Non-Divorce:  0.23529411764705882 Difference:  2.705182072829132\n",
      "Atr16 Divorce:  2.8214285714285716 Non-Divorce:  0.16470588235294117 Difference:  2.6567226890756306\n",
      "Atr17 Divorce:  3.1666666666666665 Non-Divorce:  0.16470588235294117 Difference:  3.0019607843137255\n",
      "Atr18 Divorce:  2.9761904761904763 Non-Divorce:  0.09411764705882353 Difference:  2.8820728291316526\n",
      "Atr19 Divorce:  3.1785714285714284 Non-Divorce:  0.1411764705882353 Difference:  3.037394957983193\n",
      "Atr20 Divorce:  2.880952380952381 Non-Divorce:  0.07058823529411765 Difference:  2.810364145658263\n",
      "Atr21 Divorce:  2.6547619047619047 Non-Divorce:  0.1411764705882353 Difference:  2.5135854341736694\n",
      "Atr22 Divorce:  2.4523809523809526 Non-Divorce:  0.07058823529411765 Difference:  2.3817927170868347\n",
      "Atr23 Divorce:  2.7738095238095237 Non-Divorce:  0.08235294117647059 Difference:  2.691456582633053\n",
      "Atr24 Divorce:  2.7857142857142856 Non-Divorce:  0.27058823529411763 Difference:  2.515126050420168\n",
      "Atr25 Divorce:  2.9523809523809526 Non-Divorce:  0.3411764705882353 Difference:  2.611204481792717\n",
      "Atr26 Divorce:  2.8095238095238093 Non-Divorce:  0.2 Difference:  2.609523809523809\n",
      "Atr27 Divorce:  2.6785714285714284 Non-Divorce:  0.15294117647058825 Difference:  2.5256302521008402\n",
      "Atr28 Divorce:  2.5595238095238093 Non-Divorce:  0.08235294117647059 Difference:  2.4771708683473386\n",
      "Atr29 Divorce:  2.9285714285714284 Non-Divorce:  0.09411764705882353 Difference:  2.8344537815126047\n",
      "Atr30 Divorce:  2.8214285714285716 Non-Divorce:  0.2 Difference:  2.6214285714285714\n",
      "Atr31 Divorce:  3.4404761904761907 Non-Divorce:  0.8470588235294118 Difference:  2.593417366946779\n",
      "Atr32 Divorce:  3.4166666666666665 Non-Divorce:  0.7411764705882353 Difference:  2.675490196078431\n",
      "Atr33 Divorce:  3.357142857142857 Non-Divorce:  0.29411764705882354 Difference:  3.063025210084034\n",
      "Atr34 Divorce:  3.2738095238095237 Non-Divorce:  0.5647058823529412 Difference:  2.709103641456583\n",
      "Atr35 Divorce:  3.2738095238095237 Non-Divorce:  0.10588235294117647 Difference:  3.167927170868347\n",
      "Atr36 Divorce:  3.2142857142857144 Non-Divorce:  0.03529411764705882 Difference:  3.1789915966386557\n",
      "Atr37 Divorce:  3.5833333333333335 Non-Divorce:  0.6352941176470588 Difference:  2.9480392156862747\n",
      "Atr38 Divorce:  3.4047619047619047 Non-Divorce:  0.35294117647058826 Difference:  3.0518207282913163\n",
      "Atr39 Divorce:  3.642857142857143 Non-Divorce:  0.5764705882352941 Difference:  3.0663865546218485\n",
      "Atr40 Divorce:  3.5714285714285716 Non-Divorce:  0.21176470588235294 Difference:  3.3596638655462185\n",
      "Atr41 Divorce:  3.5476190476190474 Non-Divorce:  0.47058823529411764 Difference:  3.0770308123249297\n",
      "Atr42 Divorce:  3.3333333333333335 Non-Divorce:  1.0235294117647058 Difference:  2.3098039215686277\n",
      "Atr43 Divorce:  3.4761904761904763 Non-Divorce:  1.964705882352941 Difference:  1.5114845938375352\n",
      "Atr44 Divorce:  3.380952380952381 Non-Divorce:  0.5411764705882353 Difference:  2.839775910364146\n",
      "Atr45 Divorce:  3.2857142857142856 Non-Divorce:  1.6705882352941177 Difference:  1.6151260504201679\n",
      "Atr46 Divorce:  3.1666666666666665 Non-Divorce:  1.9764705882352942 Difference:  1.1901960784313723\n",
      "Atr47 Divorce:  3.3214285714285716 Non-Divorce:  1.2470588235294118 Difference:  2.07436974789916\n",
      "Atr48 Divorce:  3.4523809523809526 Non-Divorce:  2.070588235294118 Difference:  1.3817927170868347\n",
      "Atr49 Divorce:  3.511904761904762 Non-Divorce:  1.2941176470588236 Difference:  2.2177871148459385\n",
      "Atr50 Divorce:  3.5 Non-Divorce:  1.4 Difference:  2.1\n",
      "Atr51 Divorce:  3.357142857142857 Non-Divorce:  1.6235294117647059 Difference:  1.7336134453781513\n",
      "Atr52 Divorce:  3.488095238095238 Non-Divorce:  1.588235294117647 Difference:  1.8998599439775912\n",
      "Atr53 Divorce:  3.3214285714285716 Non-Divorce:  1.2 Difference:  2.121428571428572\n",
      "Atr54 Divorce:  3.369047619047619 Non-Divorce:  0.6823529411764706 Difference:  2.6866946778711487\n",
      "Class Divorce:  1.0 Non-Divorce:  0.0 Difference:  1.0\n"
     ]
    }
   ],
   "source": [
    "#For each question, find the difference in the means between married and divorced participants\n",
    "columns = list(divorce)\n",
    "for i in columns: \n",
    "    divorce_mean = divorce[i][0:84].mean()\n",
    "    non_divorce_mean = divorce[i][85:171].mean()\n",
    "    print(i, \"Divorce: \", divorce_mean, \"Non-Divorce: \", non_divorce_mean, \"Difference: \", divorce_mean - non_divorce_mean)"
   ]
  },
  {
   "cell_type": "code",
   "execution_count": 19,
   "metadata": {
    "scrolled": true
   },
   "outputs": [
    {
     "name": "stdout",
     "output_type": "stream",
     "text": [
      "Column:  Atr1 Divorce:  3.0 Non-Divorce:  0.0 Difference:  3.0\n",
      "Column:  Atr2 Divorce:  3.0 Non-Divorce:  0.0 Difference:  3.0\n",
      "Column:  Atr3 Divorce:  3.0 Non-Divorce:  0.0 Difference:  3.0\n",
      "Column:  Atr4 Divorce:  3.0 Non-Divorce:  0.0 Difference:  3.0\n",
      "Column:  Atr5 Divorce:  3.0 Non-Divorce:  0.0 Difference:  3.0\n",
      "Column:  Atr6 Divorce:  1.0 Non-Divorce:  0.0 Difference:  1.0\n",
      "Column:  Atr7 Divorce:  1.0 Non-Divorce:  0.0 Difference:  1.0\n",
      "Column:  Atr8 Divorce:  3.0 Non-Divorce:  0.0 Difference:  3.0\n",
      "Column:  Atr9 Divorce:  3.0 Non-Divorce:  0.0 Difference:  3.0\n",
      "Column:  Atr10 Divorce:  3.0 Non-Divorce:  0.0 Difference:  3.0\n",
      "Column:  Atr11 Divorce:  3.0 Non-Divorce:  0.0 Difference:  3.0\n",
      "Column:  Atr12 Divorce:  3.0 Non-Divorce:  0.0 Difference:  3.0\n",
      "Column:  Atr13 Divorce:  3.0 Non-Divorce:  0.0 Difference:  3.0\n",
      "Column:  Atr14 Divorce:  3.0 Non-Divorce:  0.0 Difference:  3.0\n",
      "Column:  Atr15 Divorce:  3.0 Non-Divorce:  0.0 Difference:  3.0\n",
      "Column:  Atr16 Divorce:  3.0 Non-Divorce:  0.0 Difference:  3.0\n",
      "Column:  Atr17 Divorce:  3.0 Non-Divorce:  0.0 Difference:  3.0\n",
      "Column:  Atr18 Divorce:  3.0 Non-Divorce:  0.0 Difference:  3.0\n",
      "Column:  Atr19 Divorce:  3.0 Non-Divorce:  0.0 Difference:  3.0\n",
      "Column:  Atr20 Divorce:  3.0 Non-Divorce:  0.0 Difference:  3.0\n",
      "Column:  Atr21 Divorce:  3.0 Non-Divorce:  0.0 Difference:  3.0\n",
      "Column:  Atr22 Divorce:  3.0 Non-Divorce:  0.0 Difference:  3.0\n",
      "Column:  Atr23 Divorce:  3.0 Non-Divorce:  0.0 Difference:  3.0\n",
      "Column:  Atr24 Divorce:  3.0 Non-Divorce:  0.0 Difference:  3.0\n",
      "Column:  Atr25 Divorce:  3.0 Non-Divorce:  0.0 Difference:  3.0\n",
      "Column:  Atr26 Divorce:  3.0 Non-Divorce:  0.0 Difference:  3.0\n",
      "Column:  Atr27 Divorce:  3.0 Non-Divorce:  0.0 Difference:  3.0\n",
      "Column:  Atr28 Divorce:  3.0 Non-Divorce:  0.0 Difference:  3.0\n",
      "Column:  Atr29 Divorce:  3.0 Non-Divorce:  0.0 Difference:  3.0\n",
      "Column:  Atr30 Divorce:  3.0 Non-Divorce:  0.0 Difference:  3.0\n",
      "Column:  Atr31 Divorce:  4.0 Non-Divorce:  1.0 Difference:  3.0\n",
      "Column:  Atr32 Divorce:  4.0 Non-Divorce:  0.0 Difference:  4.0\n",
      "Column:  Atr33 Divorce:  4.0 Non-Divorce:  0.0 Difference:  4.0\n",
      "Column:  Atr34 Divorce:  4.0 Non-Divorce:  0.0 Difference:  4.0\n",
      "Column:  Atr35 Divorce:  4.0 Non-Divorce:  0.0 Difference:  4.0\n",
      "Column:  Atr36 Divorce:  4.0 Non-Divorce:  0.0 Difference:  4.0\n",
      "Column:  Atr37 Divorce:  4.0 Non-Divorce:  0.0 Difference:  4.0\n",
      "Column:  Atr38 Divorce:  4.0 Non-Divorce:  0.0 Difference:  4.0\n",
      "Column:  Atr39 Divorce:  4.0 Non-Divorce:  0.0 Difference:  4.0\n",
      "Column:  Atr40 Divorce:  4.0 Non-Divorce:  0.0 Difference:  4.0\n",
      "Column:  Atr41 Divorce:  4.0 Non-Divorce:  0.0 Difference:  4.0\n",
      "Column:  Atr42 Divorce:  4.0 Non-Divorce:  1.0 Difference:  3.0\n",
      "Column:  Atr43 Divorce:  4.0 Non-Divorce:  2.0 Difference:  2.0\n",
      "Column:  Atr44 Divorce:  4.0 Non-Divorce:  0.0 Difference:  4.0\n",
      "Column:  Atr45 Divorce:  4.0 Non-Divorce:  1.0 Difference:  3.0\n",
      "Column:  Atr46 Divorce:  4.0 Non-Divorce:  2.0 Difference:  2.0\n",
      "Column:  Atr47 Divorce:  4.0 Non-Divorce:  1.0 Difference:  3.0\n",
      "Column:  Atr48 Divorce:  4.0 Non-Divorce:  2.0 Difference:  2.0\n",
      "Column:  Atr49 Divorce:  4.0 Non-Divorce:  1.0 Difference:  3.0\n",
      "Column:  Atr50 Divorce:  4.0 Non-Divorce:  1.0 Difference:  3.0\n",
      "Column:  Atr51 Divorce:  4.0 Non-Divorce:  2.0 Difference:  2.0\n",
      "Column:  Atr52 Divorce:  4.0 Non-Divorce:  1.0 Difference:  3.0\n",
      "Column:  Atr53 Divorce:  4.0 Non-Divorce:  1.0 Difference:  3.0\n",
      "Column:  Atr54 Divorce:  4.0 Non-Divorce:  0.0 Difference:  4.0\n",
      "Column:  Class Divorce:  1.0 Non-Divorce:  0.0 Difference:  1.0\n"
     ]
    }
   ],
   "source": [
    "columns = list(divorce)\n",
    "#divorced = divorce[\"Class\"]\n",
    "for i in columns: \n",
    "    divorce_mean = divorce[i][0:84].median()\n",
    "    non_divorce_mean = divorce[i][85:170].median()\n",
    "    print(\"Column: \", i, \"Divorce: \", divorce_mean, \"Non-Divorce: \", non_divorce_mean, \"Difference: \", divorce_mean - non_divorce_mean)"
   ]
  },
  {
   "cell_type": "code",
   "execution_count": 7,
   "metadata": {},
   "outputs": [
    {
     "name": "stdout",
     "output_type": "stream",
     "text": [
      "Communications Divorce:  0.42299107142857145 Non-Divorce:  0.5055147058823529 Difference Magnitude:  0.08252363445378147\n",
      "Experiences Divorce:  0.7410714285714285 Non-Divorce:  0.3033613445378152 Difference Magnitude:  0.4377100840336133\n",
      "Values Divorce:  0.7342261904761906 Non-Divorce:  0.05823529411764705 Difference Magnitude:  0.6759908963585436\n",
      "Empathy Divorce:  0.6878306878306878 Non-Divorce:  0.0415032679738562 Difference Magnitude:  0.6463274198568316\n",
      "Respect Divorce:  0.15654761904761902 Non-Divorce:  0.8326470588235293 Difference Magnitude:  0.6760994397759102\n",
      "Acquiesce Divorce:  0.16815476190476195 Non-Divorce:  0.6490196078431376 Difference Magnitude:  0.48086484593837564\n",
      "Self-righteous Divorce:  0.13616071428571427 Non-Divorce:  0.600735294117647 Difference Magnitude:  0.46457457983193273\n",
      "Divorce Status Divorce:  1.0 Non-Divorce:  0.0 Difference Magnitude:  1.0\n"
     ]
    }
   ],
   "source": [
    "#For each personality trait, find the difference in the means between married and divorced participants\n",
    "#Empathy = Familiarity\n",
    "columns = list(divorce_groupings)\n",
    "for i in columns: \n",
    "    divorce_mean = divorce_groupings[i][0:84].mean()\n",
    "    non_divorce_mean = divorce_groupings[i][85:171].mean()\n",
    "    print(i, \"Divorce: \", divorce_mean, \"Non-Divorce: \", non_divorce_mean, \"Difference Magnitude: \", abs(divorce_mean - non_divorce_mean))"
   ]
  }
 ],
 "metadata": {
  "kernelspec": {
   "display_name": "Python 3",
   "language": "python",
   "name": "python3"
  },
  "language_info": {
   "codemirror_mode": {
    "name": "ipython",
    "version": 3
   },
   "file_extension": ".py",
   "mimetype": "text/x-python",
   "name": "python",
   "nbconvert_exporter": "python",
   "pygments_lexer": "ipython3",
   "version": "3.7.3"
  }
 },
 "nbformat": 4,
 "nbformat_minor": 2
}
