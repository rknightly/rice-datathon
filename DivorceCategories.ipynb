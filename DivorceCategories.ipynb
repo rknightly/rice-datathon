{
 "cells": [
  {
   "cell_type": "code",
   "execution_count": 10,
   "metadata": {},
   "outputs": [],
   "source": [
    "import numpy as np\n",
    "import pandas as pd\n",
    "import matplotlib.pyplot as plt\n",
    "%matplotlib inline"
   ]
  },
  {
   "cell_type": "code",
   "execution_count": 51,
   "metadata": {},
   "outputs": [
    {
     "data": {
      "text/html": [
       "<div>\n",
       "<style scoped>\n",
       "    .dataframe tbody tr th:only-of-type {\n",
       "        vertical-align: middle;\n",
       "    }\n",
       "\n",
       "    .dataframe tbody tr th {\n",
       "        vertical-align: top;\n",
       "    }\n",
       "\n",
       "    .dataframe thead th {\n",
       "        text-align: right;\n",
       "    }\n",
       "</style>\n",
       "<table border=\"1\" class=\"dataframe\">\n",
       "  <thead>\n",
       "    <tr style=\"text-align: right;\">\n",
       "      <th></th>\n",
       "      <th>Atr1</th>\n",
       "      <th>Atr2</th>\n",
       "      <th>Atr3</th>\n",
       "      <th>Atr4</th>\n",
       "      <th>Atr5</th>\n",
       "      <th>Atr6</th>\n",
       "      <th>Atr7</th>\n",
       "      <th>Atr8</th>\n",
       "      <th>Atr9</th>\n",
       "      <th>Atr10</th>\n",
       "      <th>...</th>\n",
       "      <th>Atr46</th>\n",
       "      <th>Atr47</th>\n",
       "      <th>Atr48</th>\n",
       "      <th>Atr49</th>\n",
       "      <th>Atr50</th>\n",
       "      <th>Atr51</th>\n",
       "      <th>Atr52</th>\n",
       "      <th>Atr53</th>\n",
       "      <th>Atr54</th>\n",
       "      <th>Unnamed: 54</th>\n",
       "    </tr>\n",
       "  </thead>\n",
       "  <tbody>\n",
       "    <tr>\n",
       "      <td>0</td>\n",
       "      <td>Communications</td>\n",
       "      <td>Communications</td>\n",
       "      <td>Communications</td>\n",
       "      <td>Communications</td>\n",
       "      <td>Experiences</td>\n",
       "      <td>Experiences</td>\n",
       "      <td>Experiences</td>\n",
       "      <td>Experiences</td>\n",
       "      <td>Experiences</td>\n",
       "      <td>Values</td>\n",
       "      <td>...</td>\n",
       "      <td>Acquiesce</td>\n",
       "      <td>Acquiesce</td>\n",
       "      <td>Self-righteous</td>\n",
       "      <td>Self-righteous</td>\n",
       "      <td>Self-righteous</td>\n",
       "      <td>Self-righteous</td>\n",
       "      <td>Respect</td>\n",
       "      <td>Respect</td>\n",
       "      <td>Respect</td>\n",
       "      <td>Zero</td>\n",
       "    </tr>\n",
       "    <tr>\n",
       "      <td>1</td>\n",
       "      <td>Positive</td>\n",
       "      <td>Positive</td>\n",
       "      <td>Positive</td>\n",
       "      <td>Positive</td>\n",
       "      <td>Positive</td>\n",
       "      <td>Negative</td>\n",
       "      <td>Negative</td>\n",
       "      <td>Positive</td>\n",
       "      <td>Positive</td>\n",
       "      <td>Positive</td>\n",
       "      <td>...</td>\n",
       "      <td>Negative</td>\n",
       "      <td>Negative</td>\n",
       "      <td>Negative</td>\n",
       "      <td>Negative</td>\n",
       "      <td>Negative</td>\n",
       "      <td>Negative</td>\n",
       "      <td>Negative</td>\n",
       "      <td>Negative</td>\n",
       "      <td>Negative</td>\n",
       "      <td>Zero</td>\n",
       "    </tr>\n",
       "  </tbody>\n",
       "</table>\n",
       "<p>2 rows × 55 columns</p>\n",
       "</div>"
      ],
      "text/plain": [
       "             Atr1            Atr2            Atr3            Atr4  \\\n",
       "0  Communications  Communications  Communications  Communications   \n",
       "1        Positive        Positive        Positive        Positive   \n",
       "\n",
       "          Atr5         Atr6         Atr7         Atr8         Atr9     Atr10  \\\n",
       "0  Experiences  Experiences  Experiences  Experiences  Experiences    Values   \n",
       "1     Positive     Negative     Negative     Positive     Positive  Positive   \n",
       "\n",
       "   ...      Atr46      Atr47           Atr48           Atr49           Atr50  \\\n",
       "0  ...  Acquiesce  Acquiesce  Self-righteous  Self-righteous  Self-righteous   \n",
       "1  ...   Negative   Negative        Negative        Negative        Negative   \n",
       "\n",
       "            Atr51     Atr52     Atr53     Atr54 Unnamed: 54  \n",
       "0  Self-righteous   Respect   Respect   Respect        Zero  \n",
       "1        Negative  Negative  Negative  Negative        Zero  \n",
       "\n",
       "[2 rows x 55 columns]"
      ]
     },
     "execution_count": 51,
     "metadata": {},
     "output_type": "execute_result"
    }
   ],
   "source": [
    "divorce_categories = pd.read_csv(\"divorce.csv\")\n",
    "divorce_categories.tail()\n",
    "values = pd.read_csv(\"divorce_values.csv\")\n",
    "values.tail()"
   ]
  },
  {
   "cell_type": "code",
   "execution_count": 56,
   "metadata": {
    "scrolled": true
   },
   "outputs": [],
   "source": [
    "for i in range(1, 55):\n",
    "    #print(divorce_categories[\"Atr\" + str(i)].shape)\n",
    "    if values[\"Atr\" + str(i)].iloc[1] == 'Negative':\n",
    "        #print(4 - divorce_categories[\"Atr\" + str(i)])\n",
    "        divorce_categories[\"Atr\" + str(i)] = 4 - divorce_categories[\"Atr\" + str(i)]\n",
    "        divorce_categories[\"Atr\" + str(i)] /= 4        "
   ]
  },
  {
   "cell_type": "code",
   "execution_count": null,
   "metadata": {},
   "outputs": [],
   "source": []
  },
  {
   "cell_type": "code",
   "execution_count": null,
   "metadata": {},
   "outputs": [],
   "source": []
  }
 ],
 "metadata": {
  "kernelspec": {
   "display_name": "Python 3",
   "language": "python",
   "name": "python3"
  },
  "language_info": {
   "codemirror_mode": {
    "name": "ipython",
    "version": 3
   },
   "file_extension": ".py",
   "mimetype": "text/x-python",
   "name": "python",
   "nbconvert_exporter": "python",
   "pygments_lexer": "ipython3",
   "version": "3.7.4"
  }
 },
 "nbformat": 4,
 "nbformat_minor": 2
}
